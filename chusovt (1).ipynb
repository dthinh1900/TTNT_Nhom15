{
  "nbformat": 4,
  "nbformat_minor": 0,
  "metadata": {
    "colab": {
      "provenance": []
    },
    "kernelspec": {
      "name": "python3",
      "display_name": "Python 3"
    },
    "language_info": {
      "name": "python"
    }
  },
  "cells": [
    {
      "cell_type": "code",
      "execution_count": 17,
      "metadata": {
        "id": "ToTzD_w2QM9w"
      },
      "outputs": [],
      "source": [
        "import tensorflow as tf\n",
        "import numpy as np\n",
        "from sklearn.datasets import fetch_openml\n",
        "from sklearn.model_selection import train_test_split\n",
        "from sklearn.metrics import accuracy_score, classification_report\n",
        "from PIL import Image\n",
        "import matplotlib.pyplot as plt\n",
        "import cv2"
      ]
    },
    {
      "cell_type": "code",
      "source": [
        "# Kết nối Google Drive\n",
        "from google.colab import drive\n",
        "drive.mount('/content/drive')"
      ],
      "metadata": {
        "id": "B1CwtRxMCHW9",
        "colab": {
          "base_uri": "https://localhost:8080/"
        },
        "outputId": "04234f70-f64b-486e-d74f-463ca09ed1aa"
      },
      "execution_count": 18,
      "outputs": [
        {
          "output_type": "stream",
          "name": "stdout",
          "text": [
            "Drive already mounted at /content/drive; to attempt to forcibly remount, call drive.mount(\"/content/drive\", force_remount=True).\n"
          ]
        }
      ]
    },
    {
      "cell_type": "code",
      "source": [
        "# Đường dẫn đến mô hình\n",
        "model_path = '/content/drive/My Drive/cnn_model.h5'"
      ],
      "metadata": {
        "id": "coWnYlsy92EB"
      },
      "execution_count": 19,
      "outputs": []
    },
    {
      "cell_type": "code",
      "source": [
        "def load_or_train_model():\n",
        "    try:\n",
        "        model = tf.keras.models.load_model(model_path)\n",
        "    except (FileNotFoundError, OSError):\n",
        "        mnist = fetch_openml('mnist_784', version=1)\n",
        "        X, y = mnist.data, mnist.target.astype(int)\n",
        "        X = X.values.reshape(-1, 28, 28, 1)\n",
        "        X = X / 255.0\n",
        "        X_train, X_test, y_train, y_test = train_test_split(X, y, test_size=0.2, random_state=42)\n",
        "        model = tf.keras.Sequential([\n",
        "            tf.keras.layers.Conv2D(32, (3, 3), activation='relu', input_shape=(28, 28, 1)),\n",
        "            tf.keras.layers.MaxPooling2D((2, 2)),\n",
        "            tf.keras.layers.Conv2D(64, (3, 3), activation='relu'),\n",
        "            tf.keras.layers.MaxPooling2D((2, 2)),\n",
        "            tf.keras.layers.Conv2D(64, (3, 3), activation='relu'),\n",
        "            tf.keras.layers.Flatten(),\n",
        "            tf.keras.layers.Dense(64, activation='relu'),\n",
        "            tf.keras.layers.Dense(10, activation='softmax')\n",
        "        ])\n",
        "        model.compile(optimizer='adam',\n",
        "                      loss='sparse_categorical_crossentropy',\n",
        "                      metrics=['accuracy'])\n",
        "        model.fit(X_train, y_train, epochs=5, batch_size=64, validation_data=(X_test, y_test))\n",
        "        model.save(model_path)\n",
        "    return model"
      ],
      "metadata": {
        "id": "PUpeizWH925p"
      },
      "execution_count": 20,
      "outputs": []
    },
    {
      "cell_type": "code",
      "source": [
        "def load_and_predict_image(image_path):\n",
        "    # Đọc ảnh bằng OpenCV và chuyển đổi sang ảnh xám\n",
        "    image = cv2.imread(image_path, cv2.IMREAD_GRAYSCALE)\n",
        "\n",
        "    # Thay đổi kích thước ảnh xuống 28x28 pixels\n",
        "    resized_image = cv2.resize(image, (28, 28))\n",
        "\n",
        "    # Chuẩn hóa ảnh\n",
        "    image_array = resized_image.reshape(1, 28, 28, 1).astype('float32') / 255.0\n",
        "\n",
        "    # Dự đoán\n",
        "    prediction = np.argmax(model.predict(image_array), axis=1)[0]\n",
        "\n",
        "    # Hiển thị ảnh và kết quả\n",
        "    plt.imshow(resized_image, cmap=\"gray\")\n",
        "    plt.title(f\"Dự đoán: {prediction}\")\n",
        "    plt.axis(\"off\")\n",
        "    plt.show()\n",
        "    print(f\"Dự đoán: Chữ số là {prediction}\")\n"
      ],
      "metadata": {
        "id": "znT0m9I899N6"
      },
      "execution_count": null,
      "outputs": []
    },
    {
      "cell_type": "code",
      "source": [
        "# Tải hoặc huấn luyện mô hình\n",
        "model = load_or_train_model()\n"
      ],
      "metadata": {
        "id": "WuTpZBHm-CH1",
        "colab": {
          "base_uri": "https://localhost:8080/"
        },
        "outputId": "5877efdc-6199-4541-8c15-bd855d8a1f6d"
      },
      "execution_count": null,
      "outputs": [
        {
          "output_type": "stream",
          "name": "stderr",
          "text": [
            "WARNING:absl:Compiled the loaded model, but the compiled metrics have yet to be built. `model.compile_metrics` will be empty until you train or evaluate the model.\n"
          ]
        }
      ]
    },
    {
      "cell_type": "code",
      "source": [
        "# Nhập đường dẫn ảnh từ người dùng\n",
        "image_path = '/content/drive/My Drive/AI/so8.png'\n",
        "load_and_predict_image(image_path)"
      ],
      "metadata": {
        "id": "1JUeDd-P-GcF",
        "collapsed": true,
        "colab": {
          "base_uri": "https://localhost:8080/",
          "height": 464
        },
        "outputId": "1594ab02-a595-41b0-a26a-2f704dc3c5f6"
      },
      "execution_count": 25,
      "outputs": [
        {
          "output_type": "stream",
          "name": "stdout",
          "text": [
            "\u001b[1m1/1\u001b[0m \u001b[32m━━━━━━━━━━━━━━━━━━━━\u001b[0m\u001b[37m\u001b[0m \u001b[1m0s\u001b[0m 19ms/step\n"
          ]
        },
        {
          "output_type": "display_data",
          "data": {
            "text/plain": [
              "<Figure size 640x480 with 1 Axes>"
            ],
            "image/png": "[encoded data removed]"
          },
          "metadata": {}
        },
        {
          "output_type": "stream",
          "name": "stdout",
          "text": [
            "Dự đoán: Chữ số là 8\n"
          ]
        }
      ]
    }
  ]
}